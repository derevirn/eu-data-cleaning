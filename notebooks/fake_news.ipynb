{
 "cells": [
  {
   "cell_type": "code",
   "execution_count": 36,
   "id": "d9e5948f-fa05-4319-874c-14035d6d52fb",
   "metadata": {},
   "outputs": [],
   "source": [
    "import pandas as pd\n",
    "import plotly.express as px\n",
    "\n",
    "path = '../data/raw/Fake News/fl_464_Volume_A.xls'\n",
    "\n",
    "sheets = ['Q2', 'Q3', 'Q4.1', 'Q4.2'] \n",
    "\n",
    "#loading selected sheets to a dictionary of dataframes\n",
    "\n",
    "data = pd.read_excel(path, sheet_name = sheets,\n",
    "                   index_col = 0, header = 8, usecols = \"B:AE\")"
   ]
  },
  {
   "cell_type": "code",
   "execution_count": 37,
   "id": "c022d2f2-48b3-4074-8c6e-874f604c5924",
   "metadata": {},
   "outputs": [],
   "source": [
    "for key in data.keys():\n",
    "    data[key] = data[key].transpose()\n",
    "    data[key].rename(index = {\"UE28\\nEU28\": \"EU28\"}, inplace = True)"
   ]
  },
  {
   "cell_type": "markdown",
   "id": "40ab588b-0e0a-433c-93b8-c88e005e2dc9",
   "metadata": {},
   "source": [
    "**Q2** How often do you come across news or information that you believe misrepresent reality or is even false? "
   ]
  },
  {
   "cell_type": "code",
   "execution_count": 38,
   "id": "34f8b7c1-4d9e-483e-af02-55e0c65b3651",
   "metadata": {},
   "outputs": [
    {
     "data": {
      "text/html": [
       "<div>\n",
       "<style scoped>\n",
       "    .dataframe tbody tr th:only-of-type {\n",
       "        vertical-align: middle;\n",
       "    }\n",
       "\n",
       "    .dataframe tbody tr th {\n",
       "        vertical-align: top;\n",
       "    }\n",
       "\n",
       "    .dataframe thead th {\n",
       "        text-align: right;\n",
       "    }\n",
       "</style>\n",
       "<table border=\"1\" class=\"dataframe\">\n",
       "  <thead>\n",
       "    <tr style=\"text-align: right;\">\n",
       "      <th></th>\n",
       "      <th>TOTAL</th>\n",
       "      <th>Every day or almost everyday</th>\n",
       "      <th>Every day or almost everyday %</th>\n",
       "      <th>At least once a week</th>\n",
       "      <th>At least once a week %</th>\n",
       "      <th>Several times a month</th>\n",
       "      <th>Several times a month %</th>\n",
       "      <th>Seldom or Never</th>\n",
       "      <th>Seldom or Never %</th>\n",
       "      <th>DK/NA</th>\n",
       "      <th>DK/NA %</th>\n",
       "      <th>Total 'At least once a week'</th>\n",
       "      <th>Total 'At least once a week' %</th>\n",
       "    </tr>\n",
       "  </thead>\n",
       "  <tbody>\n",
       "    <tr>\n",
       "      <th>EU28</th>\n",
       "      <td>26576.0</td>\n",
       "      <td>9858.0</td>\n",
       "      <td>0.37</td>\n",
       "      <td>8141.0</td>\n",
       "      <td>0.31</td>\n",
       "      <td>3188.0</td>\n",
       "      <td>0.12</td>\n",
       "      <td>4448.0</td>\n",
       "      <td>0.17</td>\n",
       "      <td>942.0</td>\n",
       "      <td>0.03</td>\n",
       "      <td>17999.0</td>\n",
       "      <td>0.68</td>\n",
       "    </tr>\n",
       "    <tr>\n",
       "      <th>BE</th>\n",
       "      <td>1001.0</td>\n",
       "      <td>310.0</td>\n",
       "      <td>0.31</td>\n",
       "      <td>324.0</td>\n",
       "      <td>0.32</td>\n",
       "      <td>150.0</td>\n",
       "      <td>0.15</td>\n",
       "      <td>179.0</td>\n",
       "      <td>0.18</td>\n",
       "      <td>39.0</td>\n",
       "      <td>0.04</td>\n",
       "      <td>634.0</td>\n",
       "      <td>0.63</td>\n",
       "    </tr>\n",
       "    <tr>\n",
       "      <th>BG</th>\n",
       "      <td>1001.0</td>\n",
       "      <td>400.0</td>\n",
       "      <td>0.40</td>\n",
       "      <td>275.0</td>\n",
       "      <td>0.27</td>\n",
       "      <td>81.0</td>\n",
       "      <td>0.08</td>\n",
       "      <td>199.0</td>\n",
       "      <td>0.20</td>\n",
       "      <td>47.0</td>\n",
       "      <td>0.05</td>\n",
       "      <td>674.0</td>\n",
       "      <td>0.67</td>\n",
       "    </tr>\n",
       "    <tr>\n",
       "      <th>CZ</th>\n",
       "      <td>1000.0</td>\n",
       "      <td>403.0</td>\n",
       "      <td>0.40</td>\n",
       "      <td>280.0</td>\n",
       "      <td>0.28</td>\n",
       "      <td>129.0</td>\n",
       "      <td>0.13</td>\n",
       "      <td>139.0</td>\n",
       "      <td>0.14</td>\n",
       "      <td>49.0</td>\n",
       "      <td>0.05</td>\n",
       "      <td>684.0</td>\n",
       "      <td>0.68</td>\n",
       "    </tr>\n",
       "    <tr>\n",
       "      <th>DK</th>\n",
       "      <td>1002.0</td>\n",
       "      <td>252.0</td>\n",
       "      <td>0.25</td>\n",
       "      <td>334.0</td>\n",
       "      <td>0.33</td>\n",
       "      <td>153.0</td>\n",
       "      <td>0.15</td>\n",
       "      <td>197.0</td>\n",
       "      <td>0.20</td>\n",
       "      <td>66.0</td>\n",
       "      <td>0.07</td>\n",
       "      <td>586.0</td>\n",
       "      <td>0.58</td>\n",
       "    </tr>\n",
       "    <tr>\n",
       "      <th>DE</th>\n",
       "      <td>1000.0</td>\n",
       "      <td>242.0</td>\n",
       "      <td>0.24</td>\n",
       "      <td>327.0</td>\n",
       "      <td>0.33</td>\n",
       "      <td>137.0</td>\n",
       "      <td>0.14</td>\n",
       "      <td>256.0</td>\n",
       "      <td>0.25</td>\n",
       "      <td>37.0</td>\n",
       "      <td>0.04</td>\n",
       "      <td>569.0</td>\n",
       "      <td>0.57</td>\n",
       "    </tr>\n",
       "    <tr>\n",
       "      <th>EE</th>\n",
       "      <td>1000.0</td>\n",
       "      <td>235.0</td>\n",
       "      <td>0.23</td>\n",
       "      <td>314.0</td>\n",
       "      <td>0.31</td>\n",
       "      <td>139.0</td>\n",
       "      <td>0.14</td>\n",
       "      <td>225.0</td>\n",
       "      <td>0.23</td>\n",
       "      <td>86.0</td>\n",
       "      <td>0.09</td>\n",
       "      <td>549.0</td>\n",
       "      <td>0.54</td>\n",
       "    </tr>\n",
       "    <tr>\n",
       "      <th>IE</th>\n",
       "      <td>1002.0</td>\n",
       "      <td>330.0</td>\n",
       "      <td>0.33</td>\n",
       "      <td>357.0</td>\n",
       "      <td>0.36</td>\n",
       "      <td>132.0</td>\n",
       "      <td>0.13</td>\n",
       "      <td>149.0</td>\n",
       "      <td>0.15</td>\n",
       "      <td>33.0</td>\n",
       "      <td>0.03</td>\n",
       "      <td>688.0</td>\n",
       "      <td>0.69</td>\n",
       "    </tr>\n",
       "    <tr>\n",
       "      <th>EL</th>\n",
       "      <td>1001.0</td>\n",
       "      <td>550.0</td>\n",
       "      <td>0.55</td>\n",
       "      <td>192.0</td>\n",
       "      <td>0.19</td>\n",
       "      <td>180.0</td>\n",
       "      <td>0.18</td>\n",
       "      <td>59.0</td>\n",
       "      <td>0.06</td>\n",
       "      <td>20.0</td>\n",
       "      <td>0.02</td>\n",
       "      <td>742.0</td>\n",
       "      <td>0.74</td>\n",
       "    </tr>\n",
       "    <tr>\n",
       "      <th>ES</th>\n",
       "      <td>1004.0</td>\n",
       "      <td>531.0</td>\n",
       "      <td>0.53</td>\n",
       "      <td>257.0</td>\n",
       "      <td>0.25</td>\n",
       "      <td>88.0</td>\n",
       "      <td>0.09</td>\n",
       "      <td>109.0</td>\n",
       "      <td>0.11</td>\n",
       "      <td>20.0</td>\n",
       "      <td>0.02</td>\n",
       "      <td>788.0</td>\n",
       "      <td>0.78</td>\n",
       "    </tr>\n",
       "    <tr>\n",
       "      <th>FR</th>\n",
       "      <td>1004.0</td>\n",
       "      <td>389.0</td>\n",
       "      <td>0.39</td>\n",
       "      <td>364.0</td>\n",
       "      <td>0.36</td>\n",
       "      <td>92.0</td>\n",
       "      <td>0.09</td>\n",
       "      <td>136.0</td>\n",
       "      <td>0.14</td>\n",
       "      <td>24.0</td>\n",
       "      <td>0.02</td>\n",
       "      <td>753.0</td>\n",
       "      <td>0.75</td>\n",
       "    </tr>\n",
       "    <tr>\n",
       "      <th>HR</th>\n",
       "      <td>1005.0</td>\n",
       "      <td>475.0</td>\n",
       "      <td>0.47</td>\n",
       "      <td>289.0</td>\n",
       "      <td>0.29</td>\n",
       "      <td>107.0</td>\n",
       "      <td>0.11</td>\n",
       "      <td>92.0</td>\n",
       "      <td>0.09</td>\n",
       "      <td>41.0</td>\n",
       "      <td>0.04</td>\n",
       "      <td>764.0</td>\n",
       "      <td>0.76</td>\n",
       "    </tr>\n",
       "    <tr>\n",
       "      <th>IT</th>\n",
       "      <td>1000.0</td>\n",
       "      <td>367.0</td>\n",
       "      <td>0.37</td>\n",
       "      <td>311.0</td>\n",
       "      <td>0.31</td>\n",
       "      <td>113.0</td>\n",
       "      <td>0.11</td>\n",
       "      <td>180.0</td>\n",
       "      <td>0.18</td>\n",
       "      <td>30.0</td>\n",
       "      <td>0.03</td>\n",
       "      <td>678.0</td>\n",
       "      <td>0.68</td>\n",
       "    </tr>\n",
       "    <tr>\n",
       "      <th>CY</th>\n",
       "      <td>500.0</td>\n",
       "      <td>226.0</td>\n",
       "      <td>0.45</td>\n",
       "      <td>80.0</td>\n",
       "      <td>0.16</td>\n",
       "      <td>98.0</td>\n",
       "      <td>0.20</td>\n",
       "      <td>74.0</td>\n",
       "      <td>0.15</td>\n",
       "      <td>23.0</td>\n",
       "      <td>0.04</td>\n",
       "      <td>306.0</td>\n",
       "      <td>0.61</td>\n",
       "    </tr>\n",
       "    <tr>\n",
       "      <th>LV</th>\n",
       "      <td>1001.0</td>\n",
       "      <td>349.0</td>\n",
       "      <td>0.35</td>\n",
       "      <td>285.0</td>\n",
       "      <td>0.28</td>\n",
       "      <td>120.0</td>\n",
       "      <td>0.12</td>\n",
       "      <td>195.0</td>\n",
       "      <td>0.20</td>\n",
       "      <td>51.0</td>\n",
       "      <td>0.05</td>\n",
       "      <td>634.0</td>\n",
       "      <td>0.63</td>\n",
       "    </tr>\n",
       "    <tr>\n",
       "      <th>LT</th>\n",
       "      <td>1002.0</td>\n",
       "      <td>230.0</td>\n",
       "      <td>0.23</td>\n",
       "      <td>299.0</td>\n",
       "      <td>0.30</td>\n",
       "      <td>159.0</td>\n",
       "      <td>0.16</td>\n",
       "      <td>216.0</td>\n",
       "      <td>0.21</td>\n",
       "      <td>98.0</td>\n",
       "      <td>0.10</td>\n",
       "      <td>529.0</td>\n",
       "      <td>0.53</td>\n",
       "    </tr>\n",
       "    <tr>\n",
       "      <th>LU</th>\n",
       "      <td>505.0</td>\n",
       "      <td>189.0</td>\n",
       "      <td>0.38</td>\n",
       "      <td>168.0</td>\n",
       "      <td>0.33</td>\n",
       "      <td>56.0</td>\n",
       "      <td>0.11</td>\n",
       "      <td>85.0</td>\n",
       "      <td>0.17</td>\n",
       "      <td>7.0</td>\n",
       "      <td>0.01</td>\n",
       "      <td>357.0</td>\n",
       "      <td>0.71</td>\n",
       "    </tr>\n",
       "    <tr>\n",
       "      <th>HU</th>\n",
       "      <td>1002.0</td>\n",
       "      <td>521.0</td>\n",
       "      <td>0.52</td>\n",
       "      <td>252.0</td>\n",
       "      <td>0.25</td>\n",
       "      <td>75.0</td>\n",
       "      <td>0.07</td>\n",
       "      <td>116.0</td>\n",
       "      <td>0.12</td>\n",
       "      <td>38.0</td>\n",
       "      <td>0.04</td>\n",
       "      <td>773.0</td>\n",
       "      <td>0.77</td>\n",
       "    </tr>\n",
       "    <tr>\n",
       "      <th>MT</th>\n",
       "      <td>520.0</td>\n",
       "      <td>142.0</td>\n",
       "      <td>0.27</td>\n",
       "      <td>142.0</td>\n",
       "      <td>0.27</td>\n",
       "      <td>65.0</td>\n",
       "      <td>0.13</td>\n",
       "      <td>108.0</td>\n",
       "      <td>0.21</td>\n",
       "      <td>62.0</td>\n",
       "      <td>0.12</td>\n",
       "      <td>285.0</td>\n",
       "      <td>0.54</td>\n",
       "    </tr>\n",
       "    <tr>\n",
       "      <th>NL</th>\n",
       "      <td>1007.0</td>\n",
       "      <td>255.0</td>\n",
       "      <td>0.25</td>\n",
       "      <td>337.0</td>\n",
       "      <td>0.34</td>\n",
       "      <td>183.0</td>\n",
       "      <td>0.18</td>\n",
       "      <td>191.0</td>\n",
       "      <td>0.19</td>\n",
       "      <td>41.0</td>\n",
       "      <td>0.04</td>\n",
       "      <td>592.0</td>\n",
       "      <td>0.59</td>\n",
       "    </tr>\n",
       "    <tr>\n",
       "      <th>AT</th>\n",
       "      <td>1000.0</td>\n",
       "      <td>308.0</td>\n",
       "      <td>0.31</td>\n",
       "      <td>353.0</td>\n",
       "      <td>0.35</td>\n",
       "      <td>135.0</td>\n",
       "      <td>0.14</td>\n",
       "      <td>180.0</td>\n",
       "      <td>0.18</td>\n",
       "      <td>24.0</td>\n",
       "      <td>0.02</td>\n",
       "      <td>661.0</td>\n",
       "      <td>0.66</td>\n",
       "    </tr>\n",
       "    <tr>\n",
       "      <th>PL</th>\n",
       "      <td>1000.0</td>\n",
       "      <td>476.0</td>\n",
       "      <td>0.48</td>\n",
       "      <td>272.0</td>\n",
       "      <td>0.27</td>\n",
       "      <td>69.0</td>\n",
       "      <td>0.07</td>\n",
       "      <td>144.0</td>\n",
       "      <td>0.14</td>\n",
       "      <td>39.0</td>\n",
       "      <td>0.04</td>\n",
       "      <td>748.0</td>\n",
       "      <td>0.75</td>\n",
       "    </tr>\n",
       "    <tr>\n",
       "      <th>PT</th>\n",
       "      <td>1000.0</td>\n",
       "      <td>320.0</td>\n",
       "      <td>0.32</td>\n",
       "      <td>285.0</td>\n",
       "      <td>0.29</td>\n",
       "      <td>144.0</td>\n",
       "      <td>0.14</td>\n",
       "      <td>209.0</td>\n",
       "      <td>0.21</td>\n",
       "      <td>41.0</td>\n",
       "      <td>0.04</td>\n",
       "      <td>605.0</td>\n",
       "      <td>0.61</td>\n",
       "    </tr>\n",
       "    <tr>\n",
       "      <th>RO</th>\n",
       "      <td>1000.0</td>\n",
       "      <td>411.0</td>\n",
       "      <td>0.41</td>\n",
       "      <td>266.0</td>\n",
       "      <td>0.27</td>\n",
       "      <td>92.0</td>\n",
       "      <td>0.09</td>\n",
       "      <td>163.0</td>\n",
       "      <td>0.16</td>\n",
       "      <td>67.0</td>\n",
       "      <td>0.07</td>\n",
       "      <td>677.0</td>\n",
       "      <td>0.68</td>\n",
       "    </tr>\n",
       "    <tr>\n",
       "      <th>SI</th>\n",
       "      <td>1002.0</td>\n",
       "      <td>308.0</td>\n",
       "      <td>0.31</td>\n",
       "      <td>325.0</td>\n",
       "      <td>0.32</td>\n",
       "      <td>120.0</td>\n",
       "      <td>0.12</td>\n",
       "      <td>208.0</td>\n",
       "      <td>0.21</td>\n",
       "      <td>41.0</td>\n",
       "      <td>0.04</td>\n",
       "      <td>633.0</td>\n",
       "      <td>0.63</td>\n",
       "    </tr>\n",
       "    <tr>\n",
       "      <th>SK</th>\n",
       "      <td>1001.0</td>\n",
       "      <td>446.0</td>\n",
       "      <td>0.45</td>\n",
       "      <td>281.0</td>\n",
       "      <td>0.28</td>\n",
       "      <td>105.0</td>\n",
       "      <td>0.10</td>\n",
       "      <td>145.0</td>\n",
       "      <td>0.15</td>\n",
       "      <td>24.0</td>\n",
       "      <td>0.02</td>\n",
       "      <td>726.0</td>\n",
       "      <td>0.73</td>\n",
       "    </tr>\n",
       "    <tr>\n",
       "      <th>FI</th>\n",
       "      <td>1001.0</td>\n",
       "      <td>184.0</td>\n",
       "      <td>0.18</td>\n",
       "      <td>316.0</td>\n",
       "      <td>0.32</td>\n",
       "      <td>182.0</td>\n",
       "      <td>0.18</td>\n",
       "      <td>286.0</td>\n",
       "      <td>0.29</td>\n",
       "      <td>33.0</td>\n",
       "      <td>0.03</td>\n",
       "      <td>500.0</td>\n",
       "      <td>0.50</td>\n",
       "    </tr>\n",
       "    <tr>\n",
       "      <th>SE</th>\n",
       "      <td>1000.0</td>\n",
       "      <td>253.0</td>\n",
       "      <td>0.25</td>\n",
       "      <td>325.0</td>\n",
       "      <td>0.33</td>\n",
       "      <td>150.0</td>\n",
       "      <td>0.15</td>\n",
       "      <td>221.0</td>\n",
       "      <td>0.22</td>\n",
       "      <td>51.0</td>\n",
       "      <td>0.05</td>\n",
       "      <td>578.0</td>\n",
       "      <td>0.58</td>\n",
       "    </tr>\n",
       "    <tr>\n",
       "      <th>UK</th>\n",
       "      <td>1015.0</td>\n",
       "      <td>387.0</td>\n",
       "      <td>0.38</td>\n",
       "      <td>311.0</td>\n",
       "      <td>0.31</td>\n",
       "      <td>155.0</td>\n",
       "      <td>0.15</td>\n",
       "      <td>122.0</td>\n",
       "      <td>0.12</td>\n",
       "      <td>39.0</td>\n",
       "      <td>0.04</td>\n",
       "      <td>698.0</td>\n",
       "      <td>0.69</td>\n",
       "    </tr>\n",
       "  </tbody>\n",
       "</table>\n",
       "</div>"
      ],
      "text/plain": [
       "        TOTAL  Every day or almost everyday  Every day or almost everyday %  \\\n",
       "EU28  26576.0                        9858.0                            0.37   \n",
       "BE     1001.0                         310.0                            0.31   \n",
       "BG     1001.0                         400.0                            0.40   \n",
       "CZ     1000.0                         403.0                            0.40   \n",
       "DK     1002.0                         252.0                            0.25   \n",
       "DE     1000.0                         242.0                            0.24   \n",
       "EE     1000.0                         235.0                            0.23   \n",
       "IE     1002.0                         330.0                            0.33   \n",
       "EL     1001.0                         550.0                            0.55   \n",
       "ES     1004.0                         531.0                            0.53   \n",
       "FR     1004.0                         389.0                            0.39   \n",
       "HR     1005.0                         475.0                            0.47   \n",
       "IT     1000.0                         367.0                            0.37   \n",
       "CY      500.0                         226.0                            0.45   \n",
       "LV     1001.0                         349.0                            0.35   \n",
       "LT     1002.0                         230.0                            0.23   \n",
       "LU      505.0                         189.0                            0.38   \n",
       "HU     1002.0                         521.0                            0.52   \n",
       "MT      520.0                         142.0                            0.27   \n",
       "NL     1007.0                         255.0                            0.25   \n",
       "AT     1000.0                         308.0                            0.31   \n",
       "PL     1000.0                         476.0                            0.48   \n",
       "PT     1000.0                         320.0                            0.32   \n",
       "RO     1000.0                         411.0                            0.41   \n",
       "SI     1002.0                         308.0                            0.31   \n",
       "SK     1001.0                         446.0                            0.45   \n",
       "FI     1001.0                         184.0                            0.18   \n",
       "SE     1000.0                         253.0                            0.25   \n",
       "UK     1015.0                         387.0                            0.38   \n",
       "\n",
       "      At least once a week  At least once a week %  Several times a month  \\\n",
       "EU28                8141.0                    0.31                 3188.0   \n",
       "BE                   324.0                    0.32                  150.0   \n",
       "BG                   275.0                    0.27                   81.0   \n",
       "CZ                   280.0                    0.28                  129.0   \n",
       "DK                   334.0                    0.33                  153.0   \n",
       "DE                   327.0                    0.33                  137.0   \n",
       "EE                   314.0                    0.31                  139.0   \n",
       "IE                   357.0                    0.36                  132.0   \n",
       "EL                   192.0                    0.19                  180.0   \n",
       "ES                   257.0                    0.25                   88.0   \n",
       "FR                   364.0                    0.36                   92.0   \n",
       "HR                   289.0                    0.29                  107.0   \n",
       "IT                   311.0                    0.31                  113.0   \n",
       "CY                    80.0                    0.16                   98.0   \n",
       "LV                   285.0                    0.28                  120.0   \n",
       "LT                   299.0                    0.30                  159.0   \n",
       "LU                   168.0                    0.33                   56.0   \n",
       "HU                   252.0                    0.25                   75.0   \n",
       "MT                   142.0                    0.27                   65.0   \n",
       "NL                   337.0                    0.34                  183.0   \n",
       "AT                   353.0                    0.35                  135.0   \n",
       "PL                   272.0                    0.27                   69.0   \n",
       "PT                   285.0                    0.29                  144.0   \n",
       "RO                   266.0                    0.27                   92.0   \n",
       "SI                   325.0                    0.32                  120.0   \n",
       "SK                   281.0                    0.28                  105.0   \n",
       "FI                   316.0                    0.32                  182.0   \n",
       "SE                   325.0                    0.33                  150.0   \n",
       "UK                   311.0                    0.31                  155.0   \n",
       "\n",
       "      Several times a month %  Seldom or Never  Seldom or Never %  DK/NA  \\\n",
       "EU28                     0.12           4448.0               0.17  942.0   \n",
       "BE                       0.15            179.0               0.18   39.0   \n",
       "BG                       0.08            199.0               0.20   47.0   \n",
       "CZ                       0.13            139.0               0.14   49.0   \n",
       "DK                       0.15            197.0               0.20   66.0   \n",
       "DE                       0.14            256.0               0.25   37.0   \n",
       "EE                       0.14            225.0               0.23   86.0   \n",
       "IE                       0.13            149.0               0.15   33.0   \n",
       "EL                       0.18             59.0               0.06   20.0   \n",
       "ES                       0.09            109.0               0.11   20.0   \n",
       "FR                       0.09            136.0               0.14   24.0   \n",
       "HR                       0.11             92.0               0.09   41.0   \n",
       "IT                       0.11            180.0               0.18   30.0   \n",
       "CY                       0.20             74.0               0.15   23.0   \n",
       "LV                       0.12            195.0               0.20   51.0   \n",
       "LT                       0.16            216.0               0.21   98.0   \n",
       "LU                       0.11             85.0               0.17    7.0   \n",
       "HU                       0.07            116.0               0.12   38.0   \n",
       "MT                       0.13            108.0               0.21   62.0   \n",
       "NL                       0.18            191.0               0.19   41.0   \n",
       "AT                       0.14            180.0               0.18   24.0   \n",
       "PL                       0.07            144.0               0.14   39.0   \n",
       "PT                       0.14            209.0               0.21   41.0   \n",
       "RO                       0.09            163.0               0.16   67.0   \n",
       "SI                       0.12            208.0               0.21   41.0   \n",
       "SK                       0.10            145.0               0.15   24.0   \n",
       "FI                       0.18            286.0               0.29   33.0   \n",
       "SE                       0.15            221.0               0.22   51.0   \n",
       "UK                       0.15            122.0               0.12   39.0   \n",
       "\n",
       "      DK/NA %  Total 'At least once a week'  Total 'At least once a week' %  \n",
       "EU28     0.03                       17999.0                            0.68  \n",
       "BE       0.04                         634.0                            0.63  \n",
       "BG       0.05                         674.0                            0.67  \n",
       "CZ       0.05                         684.0                            0.68  \n",
       "DK       0.07                         586.0                            0.58  \n",
       "DE       0.04                         569.0                            0.57  \n",
       "EE       0.09                         549.0                            0.54  \n",
       "IE       0.03                         688.0                            0.69  \n",
       "EL       0.02                         742.0                            0.74  \n",
       "ES       0.02                         788.0                            0.78  \n",
       "FR       0.02                         753.0                            0.75  \n",
       "HR       0.04                         764.0                            0.76  \n",
       "IT       0.03                         678.0                            0.68  \n",
       "CY       0.04                         306.0                            0.61  \n",
       "LV       0.05                         634.0                            0.63  \n",
       "LT       0.10                         529.0                            0.53  \n",
       "LU       0.01                         357.0                            0.71  \n",
       "HU       0.04                         773.0                            0.77  \n",
       "MT       0.12                         285.0                            0.54  \n",
       "NL       0.04                         592.0                            0.59  \n",
       "AT       0.02                         661.0                            0.66  \n",
       "PL       0.04                         748.0                            0.75  \n",
       "PT       0.04                         605.0                            0.61  \n",
       "RO       0.07                         677.0                            0.68  \n",
       "SI       0.04                         633.0                            0.63  \n",
       "SK       0.02                         726.0                            0.73  \n",
       "FI       0.03                         500.0                            0.50  \n",
       "SE       0.05                         578.0                            0.58  \n",
       "UK       0.04                         698.0                            0.69  "
      ]
     },
     "execution_count": 38,
     "metadata": {},
     "output_type": "execute_result"
    }
   ],
   "source": [
    "df = data['Q2']\n",
    "df"
   ]
  },
  {
   "cell_type": "code",
   "execution_count": 39,
   "id": "42d8c5ff-0e4e-43cd-a9da-fdc3b680be3a",
   "metadata": {},
   "outputs": [
    {
     "data": {
      "application/vnd.plotly.v1+json": {
       "config": {
        "plotlyServerURL": "https://plot.ly"
       },
       "data": [
        {
         "alignmentgroup": "True",
         "hovertemplate": "Total 'At least once a week' %=%{x}<br>index=%{y}<extra></extra>",
         "legendgroup": "",
         "marker": {
          "color": "#636efa",
          "pattern": {
           "shape": ""
          }
         },
         "name": "",
         "offsetgroup": "",
         "orientation": "h",
         "showlegend": false,
         "textposition": "auto",
         "type": "bar",
         "x": [
          0.5,
          0.53,
          0.54,
          0.54,
          0.57,
          0.58,
          0.58,
          0.59,
          0.61,
          0.61,
          0.63,
          0.63,
          0.63,
          0.66,
          0.67,
          0.68,
          0.68,
          0.68,
          0.68,
          0.69,
          0.69,
          0.71,
          0.73,
          0.74,
          0.75,
          0.75,
          0.76,
          0.77,
          0.78
         ],
         "xaxis": "x",
         "y": [
          "FI",
          "LT",
          "EE",
          "MT",
          "DE",
          "DK",
          "SE",
          "NL",
          "PT",
          "CY",
          "LV",
          "BE",
          "SI",
          "AT",
          "BG",
          "RO",
          "EU28",
          "IT",
          "CZ",
          "IE",
          "UK",
          "LU",
          "SK",
          "EL",
          "FR",
          "PL",
          "HR",
          "HU",
          "ES"
         ],
         "yaxis": "y"
        }
       ],
       "layout": {
        "barmode": "relative",
        "height": 800,
        "legend": {
         "tracegroupgap": 0
        },
        "template": {
         "data": {
          "bar": [
           {
            "error_x": {
             "color": "#2a3f5f"
            },
            "error_y": {
             "color": "#2a3f5f"
            },
            "marker": {
             "line": {
              "color": "#E5ECF6",
              "width": 0.5
             },
             "pattern": {
              "fillmode": "overlay",
              "size": 10,
              "solidity": 0.2
             }
            },
            "type": "bar"
           }
          ],
          "barpolar": [
           {
            "marker": {
             "line": {
              "color": "#E5ECF6",
              "width": 0.5
             },
             "pattern": {
              "fillmode": "overlay",
              "size": 10,
              "solidity": 0.2
             }
            },
            "type": "barpolar"
           }
          ],
          "carpet": [
           {
            "aaxis": {
             "endlinecolor": "#2a3f5f",
             "gridcolor": "white",
             "linecolor": "white",
             "minorgridcolor": "white",
             "startlinecolor": "#2a3f5f"
            },
            "baxis": {
             "endlinecolor": "#2a3f5f",
             "gridcolor": "white",
             "linecolor": "white",
             "minorgridcolor": "white",
             "startlinecolor": "#2a3f5f"
            },
            "type": "carpet"
           }
          ],
          "choropleth": [
           {
            "colorbar": {
             "outlinewidth": 0,
             "ticks": ""
            },
            "type": "choropleth"
           }
          ],
          "contour": [
           {
            "colorbar": {
             "outlinewidth": 0,
             "ticks": ""
            },
            "colorscale": [
             [
              0,
              "#0d0887"
             ],
             [
              0.1111111111111111,
              "#46039f"
             ],
             [
              0.2222222222222222,
              "#7201a8"
             ],
             [
              0.3333333333333333,
              "#9c179e"
             ],
             [
              0.4444444444444444,
              "#bd3786"
             ],
             [
              0.5555555555555556,
              "#d8576b"
             ],
             [
              0.6666666666666666,
              "#ed7953"
             ],
             [
              0.7777777777777778,
              "#fb9f3a"
             ],
             [
              0.8888888888888888,
              "#fdca26"
             ],
             [
              1,
              "#f0f921"
             ]
            ],
            "type": "contour"
           }
          ],
          "contourcarpet": [
           {
            "colorbar": {
             "outlinewidth": 0,
             "ticks": ""
            },
            "type": "contourcarpet"
           }
          ],
          "heatmap": [
           {
            "colorbar": {
             "outlinewidth": 0,
             "ticks": ""
            },
            "colorscale": [
             [
              0,
              "#0d0887"
             ],
             [
              0.1111111111111111,
              "#46039f"
             ],
             [
              0.2222222222222222,
              "#7201a8"
             ],
             [
              0.3333333333333333,
              "#9c179e"
             ],
             [
              0.4444444444444444,
              "#bd3786"
             ],
             [
              0.5555555555555556,
              "#d8576b"
             ],
             [
              0.6666666666666666,
              "#ed7953"
             ],
             [
              0.7777777777777778,
              "#fb9f3a"
             ],
             [
              0.8888888888888888,
              "#fdca26"
             ],
             [
              1,
              "#f0f921"
             ]
            ],
            "type": "heatmap"
           }
          ],
          "heatmapgl": [
           {
            "colorbar": {
             "outlinewidth": 0,
             "ticks": ""
            },
            "colorscale": [
             [
              0,
              "#0d0887"
             ],
             [
              0.1111111111111111,
              "#46039f"
             ],
             [
              0.2222222222222222,
              "#7201a8"
             ],
             [
              0.3333333333333333,
              "#9c179e"
             ],
             [
              0.4444444444444444,
              "#bd3786"
             ],
             [
              0.5555555555555556,
              "#d8576b"
             ],
             [
              0.6666666666666666,
              "#ed7953"
             ],
             [
              0.7777777777777778,
              "#fb9f3a"
             ],
             [
              0.8888888888888888,
              "#fdca26"
             ],
             [
              1,
              "#f0f921"
             ]
            ],
            "type": "heatmapgl"
           }
          ],
          "histogram": [
           {
            "marker": {
             "pattern": {
              "fillmode": "overlay",
              "size": 10,
              "solidity": 0.2
             }
            },
            "type": "histogram"
           }
          ],
          "histogram2d": [
           {
            "colorbar": {
             "outlinewidth": 0,
             "ticks": ""
            },
            "colorscale": [
             [
              0,
              "#0d0887"
             ],
             [
              0.1111111111111111,
              "#46039f"
             ],
             [
              0.2222222222222222,
              "#7201a8"
             ],
             [
              0.3333333333333333,
              "#9c179e"
             ],
             [
              0.4444444444444444,
              "#bd3786"
             ],
             [
              0.5555555555555556,
              "#d8576b"
             ],
             [
              0.6666666666666666,
              "#ed7953"
             ],
             [
              0.7777777777777778,
              "#fb9f3a"
             ],
             [
              0.8888888888888888,
              "#fdca26"
             ],
             [
              1,
              "#f0f921"
             ]
            ],
            "type": "histogram2d"
           }
          ],
          "histogram2dcontour": [
           {
            "colorbar": {
             "outlinewidth": 0,
             "ticks": ""
            },
            "colorscale": [
             [
              0,
              "#0d0887"
             ],
             [
              0.1111111111111111,
              "#46039f"
             ],
             [
              0.2222222222222222,
              "#7201a8"
             ],
             [
              0.3333333333333333,
              "#9c179e"
             ],
             [
              0.4444444444444444,
              "#bd3786"
             ],
             [
              0.5555555555555556,
              "#d8576b"
             ],
             [
              0.6666666666666666,
              "#ed7953"
             ],
             [
              0.7777777777777778,
              "#fb9f3a"
             ],
             [
              0.8888888888888888,
              "#fdca26"
             ],
             [
              1,
              "#f0f921"
             ]
            ],
            "type": "histogram2dcontour"
           }
          ],
          "mesh3d": [
           {
            "colorbar": {
             "outlinewidth": 0,
             "ticks": ""
            },
            "type": "mesh3d"
           }
          ],
          "parcoords": [
           {
            "line": {
             "colorbar": {
              "outlinewidth": 0,
              "ticks": ""
             }
            },
            "type": "parcoords"
           }
          ],
          "pie": [
           {
            "automargin": true,
            "type": "pie"
           }
          ],
          "scatter": [
           {
            "marker": {
             "colorbar": {
              "outlinewidth": 0,
              "ticks": ""
             }
            },
            "type": "scatter"
           }
          ],
          "scatter3d": [
           {
            "line": {
             "colorbar": {
              "outlinewidth": 0,
              "ticks": ""
             }
            },
            "marker": {
             "colorbar": {
              "outlinewidth": 0,
              "ticks": ""
             }
            },
            "type": "scatter3d"
           }
          ],
          "scattercarpet": [
           {
            "marker": {
             "colorbar": {
              "outlinewidth": 0,
              "ticks": ""
             }
            },
            "type": "scattercarpet"
           }
          ],
          "scattergeo": [
           {
            "marker": {
             "colorbar": {
              "outlinewidth": 0,
              "ticks": ""
             }
            },
            "type": "scattergeo"
           }
          ],
          "scattergl": [
           {
            "marker": {
             "colorbar": {
              "outlinewidth": 0,
              "ticks": ""
             }
            },
            "type": "scattergl"
           }
          ],
          "scattermapbox": [
           {
            "marker": {
             "colorbar": {
              "outlinewidth": 0,
              "ticks": ""
             }
            },
            "type": "scattermapbox"
           }
          ],
          "scatterpolar": [
           {
            "marker": {
             "colorbar": {
              "outlinewidth": 0,
              "ticks": ""
             }
            },
            "type": "scatterpolar"
           }
          ],
          "scatterpolargl": [
           {
            "marker": {
             "colorbar": {
              "outlinewidth": 0,
              "ticks": ""
             }
            },
            "type": "scatterpolargl"
           }
          ],
          "scatterternary": [
           {
            "marker": {
             "colorbar": {
              "outlinewidth": 0,
              "ticks": ""
             }
            },
            "type": "scatterternary"
           }
          ],
          "surface": [
           {
            "colorbar": {
             "outlinewidth": 0,
             "ticks": ""
            },
            "colorscale": [
             [
              0,
              "#0d0887"
             ],
             [
              0.1111111111111111,
              "#46039f"
             ],
             [
              0.2222222222222222,
              "#7201a8"
             ],
             [
              0.3333333333333333,
              "#9c179e"
             ],
             [
              0.4444444444444444,
              "#bd3786"
             ],
             [
              0.5555555555555556,
              "#d8576b"
             ],
             [
              0.6666666666666666,
              "#ed7953"
             ],
             [
              0.7777777777777778,
              "#fb9f3a"
             ],
             [
              0.8888888888888888,
              "#fdca26"
             ],
             [
              1,
              "#f0f921"
             ]
            ],
            "type": "surface"
           }
          ],
          "table": [
           {
            "cells": {
             "fill": {
              "color": "#EBF0F8"
             },
             "line": {
              "color": "white"
             }
            },
            "header": {
             "fill": {
              "color": "#C8D4E3"
             },
             "line": {
              "color": "white"
             }
            },
            "type": "table"
           }
          ]
         },
         "layout": {
          "annotationdefaults": {
           "arrowcolor": "#2a3f5f",
           "arrowhead": 0,
           "arrowwidth": 1
          },
          "autotypenumbers": "strict",
          "coloraxis": {
           "colorbar": {
            "outlinewidth": 0,
            "ticks": ""
           }
          },
          "colorscale": {
           "diverging": [
            [
             0,
             "#8e0152"
            ],
            [
             0.1,
             "#c51b7d"
            ],
            [
             0.2,
             "#de77ae"
            ],
            [
             0.3,
             "#f1b6da"
            ],
            [
             0.4,
             "#fde0ef"
            ],
            [
             0.5,
             "#f7f7f7"
            ],
            [
             0.6,
             "#e6f5d0"
            ],
            [
             0.7,
             "#b8e186"
            ],
            [
             0.8,
             "#7fbc41"
            ],
            [
             0.9,
             "#4d9221"
            ],
            [
             1,
             "#276419"
            ]
           ],
           "sequential": [
            [
             0,
             "#0d0887"
            ],
            [
             0.1111111111111111,
             "#46039f"
            ],
            [
             0.2222222222222222,
             "#7201a8"
            ],
            [
             0.3333333333333333,
             "#9c179e"
            ],
            [
             0.4444444444444444,
             "#bd3786"
            ],
            [
             0.5555555555555556,
             "#d8576b"
            ],
            [
             0.6666666666666666,
             "#ed7953"
            ],
            [
             0.7777777777777778,
             "#fb9f3a"
            ],
            [
             0.8888888888888888,
             "#fdca26"
            ],
            [
             1,
             "#f0f921"
            ]
           ],
           "sequentialminus": [
            [
             0,
             "#0d0887"
            ],
            [
             0.1111111111111111,
             "#46039f"
            ],
            [
             0.2222222222222222,
             "#7201a8"
            ],
            [
             0.3333333333333333,
             "#9c179e"
            ],
            [
             0.4444444444444444,
             "#bd3786"
            ],
            [
             0.5555555555555556,
             "#d8576b"
            ],
            [
             0.6666666666666666,
             "#ed7953"
            ],
            [
             0.7777777777777778,
             "#fb9f3a"
            ],
            [
             0.8888888888888888,
             "#fdca26"
            ],
            [
             1,
             "#f0f921"
            ]
           ]
          },
          "colorway": [
           "#636efa",
           "#EF553B",
           "#00cc96",
           "#ab63fa",
           "#FFA15A",
           "#19d3f3",
           "#FF6692",
           "#B6E880",
           "#FF97FF",
           "#FECB52"
          ],
          "font": {
           "color": "#2a3f5f"
          },
          "geo": {
           "bgcolor": "white",
           "lakecolor": "white",
           "landcolor": "#E5ECF6",
           "showlakes": true,
           "showland": true,
           "subunitcolor": "white"
          },
          "hoverlabel": {
           "align": "left"
          },
          "hovermode": "closest",
          "mapbox": {
           "style": "light"
          },
          "paper_bgcolor": "white",
          "plot_bgcolor": "#E5ECF6",
          "polar": {
           "angularaxis": {
            "gridcolor": "white",
            "linecolor": "white",
            "ticks": ""
           },
           "bgcolor": "#E5ECF6",
           "radialaxis": {
            "gridcolor": "white",
            "linecolor": "white",
            "ticks": ""
           }
          },
          "scene": {
           "xaxis": {
            "backgroundcolor": "#E5ECF6",
            "gridcolor": "white",
            "gridwidth": 2,
            "linecolor": "white",
            "showbackground": true,
            "ticks": "",
            "zerolinecolor": "white"
           },
           "yaxis": {
            "backgroundcolor": "#E5ECF6",
            "gridcolor": "white",
            "gridwidth": 2,
            "linecolor": "white",
            "showbackground": true,
            "ticks": "",
            "zerolinecolor": "white"
           },
           "zaxis": {
            "backgroundcolor": "#E5ECF6",
            "gridcolor": "white",
            "gridwidth": 2,
            "linecolor": "white",
            "showbackground": true,
            "ticks": "",
            "zerolinecolor": "white"
           }
          },
          "shapedefaults": {
           "line": {
            "color": "#2a3f5f"
           }
          },
          "ternary": {
           "aaxis": {
            "gridcolor": "white",
            "linecolor": "white",
            "ticks": ""
           },
           "baxis": {
            "gridcolor": "white",
            "linecolor": "white",
            "ticks": ""
           },
           "bgcolor": "#E5ECF6",
           "caxis": {
            "gridcolor": "white",
            "linecolor": "white",
            "ticks": ""
           }
          },
          "title": {
           "x": 0.05
          },
          "xaxis": {
           "automargin": true,
           "gridcolor": "white",
           "linecolor": "white",
           "ticks": "",
           "title": {
            "standoff": 15
           },
           "zerolinecolor": "white",
           "zerolinewidth": 2
          },
          "yaxis": {
           "automargin": true,
           "gridcolor": "white",
           "linecolor": "white",
           "ticks": "",
           "title": {
            "standoff": 15
           },
           "zerolinecolor": "white",
           "zerolinewidth": 2
          }
         }
        },
        "title": {
         "text": "How often do you come across news or information that you<br>believe misrepresent reality or is even false?"
        },
        "width": 600,
        "xaxis": {
         "anchor": "y",
         "autorange": true,
         "domain": [
          0,
          1
         ],
         "range": [
          0,
          0.8210526315789474
         ],
         "tickformat": ".1%",
         "title": {
          "text": "Total 'At least once a week' %"
         },
         "type": "linear"
        },
        "yaxis": {
         "anchor": "x",
         "autorange": true,
         "domain": [
          0,
          1
         ],
         "range": [
          -0.5,
          28.5
         ],
         "title": {
          "text": "index"
         },
         "type": "category"
        }
       }
      },
      "image/png": "[encoded data removed]",
      "text/html": [
       "<div>                            <div id=\"759d3125-2558-4641-9923-841a6e3273c5\" class=\"plotly-graph-div\" style=\"height:800px; width:600px;\"></div>            <script type=\"text/javascript\">                require([\"plotly\"], function(Plotly) {                    window.PLOTLYENV=window.PLOTLYENV || {};                                    if (document.getElementById(\"759d3125-2558-4641-9923-841a6e3273c5\")) {                    Plotly.newPlot(                        \"759d3125-2558-4641-9923-841a6e3273c5\",                        [{\"alignmentgroup\":\"True\",\"hovertemplate\":\"Total 'At least once a week' %=%{x}<br>index=%{y}<extra></extra>\",\"legendgroup\":\"\",\"marker\":{\"color\":\"#636efa\",\"pattern\":{\"shape\":\"\"}},\"name\":\"\",\"offsetgroup\":\"\",\"orientation\":\"h\",\"showlegend\":false,\"textposition\":\"auto\",\"type\":\"bar\",\"x\":[0.5,0.53,0.54,0.54,0.57,0.58,0.58,0.59,0.61,0.61,0.63,0.63,0.63,0.66,0.67,0.68,0.68,0.68,0.68,0.69,0.69,0.71,0.73,0.74,0.75,0.75,0.76,0.77,0.78],\"xaxis\":\"x\",\"y\":[\"FI\",\"LT\",\"EE\",\"MT\",\"DE\",\"DK\",\"SE\",\"NL\",\"PT\",\"CY\",\"LV\",\"BE\",\"SI\",\"AT\",\"BG\",\"RO\",\"EU28\",\"IT\",\"CZ\",\"IE\",\"UK\",\"LU\",\"SK\",\"EL\",\"FR\",\"PL\",\"HR\",\"HU\",\"ES\"],\"yaxis\":\"y\"}],                        {\"barmode\":\"relative\",\"height\":800,\"legend\":{\"tracegroupgap\":0},\"template\":{\"data\":{\"bar\":[{\"error_x\":{\"color\":\"#2a3f5f\"},\"error_y\":{\"color\":\"#2a3f5f\"},\"marker\":{\"line\":{\"color\":\"#E5ECF6\",\"width\":0.5},\"pattern\":{\"fillmode\":\"overlay\",\"size\":10,\"solidity\":0.2}},\"type\":\"bar\"}],\"barpolar\":[{\"marker\":{\"line\":{\"color\":\"#E5ECF6\",\"width\":0.5},\"pattern\":{\"fillmode\":\"overlay\",\"size\":10,\"solidity\":0.2}},\"type\":\"barpolar\"}],\"carpet\":[{\"aaxis\":{\"endlinecolor\":\"#2a3f5f\",\"gridcolor\":\"white\",\"linecolor\":\"white\",\"minorgridcolor\":\"white\",\"startlinecolor\":\"#2a3f5f\"},\"baxis\":{\"endlinecolor\":\"#2a3f5f\",\"gridcolor\":\"white\",\"linecolor\":\"white\",\"minorgridcolor\":\"white\",\"startlinecolor\":\"#2a3f5f\"},\"type\":\"carpet\"}],\"choropleth\":[{\"colorbar\":{\"outlinewidth\":0,\"ticks\":\"\"},\"type\":\"choropleth\"}],\"contour\":[{\"colorbar\":{\"outlinewidth\":0,\"ticks\":\"\"},\"colorscale\":[[0.0,\"#0d0887\"],[0.1111111111111111,\"#46039f\"],[0.2222222222222222,\"#7201a8\"],[0.3333333333333333,\"#9c179e\"],[0.4444444444444444,\"#bd3786\"],[0.5555555555555556,\"#d8576b\"],[0.6666666666666666,\"#ed7953\"],[0.7777777777777778,\"#fb9f3a\"],[0.8888888888888888,\"#fdca26\"],[1.0,\"#f0f921\"]],\"type\":\"contour\"}],\"contourcarpet\":[{\"colorbar\":{\"outlinewidth\":0,\"ticks\":\"\"},\"type\":\"contourcarpet\"}],\"heatmap\":[{\"colorbar\":{\"outlinewidth\":0,\"ticks\":\"\"},\"colorscale\":[[0.0,\"#0d0887\"],[0.1111111111111111,\"#46039f\"],[0.2222222222222222,\"#7201a8\"],[0.3333333333333333,\"#9c179e\"],[0.4444444444444444,\"#bd3786\"],[0.5555555555555556,\"#d8576b\"],[0.6666666666666666,\"#ed7953\"],[0.7777777777777778,\"#fb9f3a\"],[0.8888888888888888,\"#fdca26\"],[1.0,\"#f0f921\"]],\"type\":\"heatmap\"}],\"heatmapgl\":[{\"colorbar\":{\"outlinewidth\":0,\"ticks\":\"\"},\"colorscale\":[[0.0,\"#0d0887\"],[0.1111111111111111,\"#46039f\"],[0.2222222222222222,\"#7201a8\"],[0.3333333333333333,\"#9c179e\"],[0.4444444444444444,\"#bd3786\"],[0.5555555555555556,\"#d8576b\"],[0.6666666666666666,\"#ed7953\"],[0.7777777777777778,\"#fb9f3a\"],[0.8888888888888888,\"#fdca26\"],[1.0,\"#f0f921\"]],\"type\":\"heatmapgl\"}],\"histogram\":[{\"marker\":{\"pattern\":{\"fillmode\":\"overlay\",\"size\":10,\"solidity\":0.2}},\"type\":\"histogram\"}],\"histogram2d\":[{\"colorbar\":{\"outlinewidth\":0,\"ticks\":\"\"},\"colorscale\":[[0.0,\"#0d0887\"],[0.1111111111111111,\"#46039f\"],[0.2222222222222222,\"#7201a8\"],[0.3333333333333333,\"#9c179e\"],[0.4444444444444444,\"#bd3786\"],[0.5555555555555556,\"#d8576b\"],[0.6666666666666666,\"#ed7953\"],[0.7777777777777778,\"#fb9f3a\"],[0.8888888888888888,\"#fdca26\"],[1.0,\"#f0f921\"]],\"type\":\"histogram2d\"}],\"histogram2dcontour\":[{\"colorbar\":{\"outlinewidth\":0,\"ticks\":\"\"},\"colorscale\":[[0.0,\"#0d0887\"],[0.1111111111111111,\"#46039f\"],[0.2222222222222222,\"#7201a8\"],[0.3333333333333333,\"#9c179e\"],[0.4444444444444444,\"#bd3786\"],[0.5555555555555556,\"#d8576b\"],[0.6666666666666666,\"#ed7953\"],[0.7777777777777778,\"#fb9f3a\"],[0.8888888888888888,\"#fdca26\"],[1.0,\"#f0f921\"]],\"type\":\"histogram2dcontour\"}],\"mesh3d\":[{\"colorbar\":{\"outlinewidth\":0,\"ticks\":\"\"},\"type\":\"mesh3d\"}],\"parcoords\":[{\"line\":{\"colorbar\":{\"outlinewidth\":0,\"ticks\":\"\"}},\"type\":\"parcoords\"}],\"pie\":[{\"automargin\":true,\"type\":\"pie\"}],\"scatter\":[{\"marker\":{\"colorbar\":{\"outlinewidth\":0,\"ticks\":\"\"}},\"type\":\"scatter\"}],\"scatter3d\":[{\"line\":{\"colorbar\":{\"outlinewidth\":0,\"ticks\":\"\"}},\"marker\":{\"colorbar\":{\"outlinewidth\":0,\"ticks\":\"\"}},\"type\":\"scatter3d\"}],\"scattercarpet\":[{\"marker\":{\"colorbar\":{\"outlinewidth\":0,\"ticks\":\"\"}},\"type\":\"scattercarpet\"}],\"scattergeo\":[{\"marker\":{\"colorbar\":{\"outlinewidth\":0,\"ticks\":\"\"}},\"type\":\"scattergeo\"}],\"scattergl\":[{\"marker\":{\"colorbar\":{\"outlinewidth\":0,\"ticks\":\"\"}},\"type\":\"scattergl\"}],\"scattermapbox\":[{\"marker\":{\"colorbar\":{\"outlinewidth\":0,\"ticks\":\"\"}},\"type\":\"scattermapbox\"}],\"scatterpolar\":[{\"marker\":{\"colorbar\":{\"outlinewidth\":0,\"ticks\":\"\"}},\"type\":\"scatterpolar\"}],\"scatterpolargl\":[{\"marker\":{\"colorbar\":{\"outlinewidth\":0,\"ticks\":\"\"}},\"type\":\"scatterpolargl\"}],\"scatterternary\":[{\"marker\":{\"colorbar\":{\"outlinewidth\":0,\"ticks\":\"\"}},\"type\":\"scatterternary\"}],\"surface\":[{\"colorbar\":{\"outlinewidth\":0,\"ticks\":\"\"},\"colorscale\":[[0.0,\"#0d0887\"],[0.1111111111111111,\"#46039f\"],[0.2222222222222222,\"#7201a8\"],[0.3333333333333333,\"#9c179e\"],[0.4444444444444444,\"#bd3786\"],[0.5555555555555556,\"#d8576b\"],[0.6666666666666666,\"#ed7953\"],[0.7777777777777778,\"#fb9f3a\"],[0.8888888888888888,\"#fdca26\"],[1.0,\"#f0f921\"]],\"type\":\"surface\"}],\"table\":[{\"cells\":{\"fill\":{\"color\":\"#EBF0F8\"},\"line\":{\"color\":\"white\"}},\"header\":{\"fill\":{\"color\":\"#C8D4E3\"},\"line\":{\"color\":\"white\"}},\"type\":\"table\"}]},\"layout\":{\"annotationdefaults\":{\"arrowcolor\":\"#2a3f5f\",\"arrowhead\":0,\"arrowwidth\":1},\"autotypenumbers\":\"strict\",\"coloraxis\":{\"colorbar\":{\"outlinewidth\":0,\"ticks\":\"\"}},\"colorscale\":{\"diverging\":[[0,\"#8e0152\"],[0.1,\"#c51b7d\"],[0.2,\"#de77ae\"],[0.3,\"#f1b6da\"],[0.4,\"#fde0ef\"],[0.5,\"#f7f7f7\"],[0.6,\"#e6f5d0\"],[0.7,\"#b8e186\"],[0.8,\"#7fbc41\"],[0.9,\"#4d9221\"],[1,\"#276419\"]],\"sequential\":[[0.0,\"#0d0887\"],[0.1111111111111111,\"#46039f\"],[0.2222222222222222,\"#7201a8\"],[0.3333333333333333,\"#9c179e\"],[0.4444444444444444,\"#bd3786\"],[0.5555555555555556,\"#d8576b\"],[0.6666666666666666,\"#ed7953\"],[0.7777777777777778,\"#fb9f3a\"],[0.8888888888888888,\"#fdca26\"],[1.0,\"#f0f921\"]],\"sequentialminus\":[[0.0,\"#0d0887\"],[0.1111111111111111,\"#46039f\"],[0.2222222222222222,\"#7201a8\"],[0.3333333333333333,\"#9c179e\"],[0.4444444444444444,\"#bd3786\"],[0.5555555555555556,\"#d8576b\"],[0.6666666666666666,\"#ed7953\"],[0.7777777777777778,\"#fb9f3a\"],[0.8888888888888888,\"#fdca26\"],[1.0,\"#f0f921\"]]},\"colorway\":[\"#636efa\",\"#EF553B\",\"#00cc96\",\"#ab63fa\",\"#FFA15A\",\"#19d3f3\",\"#FF6692\",\"#B6E880\",\"#FF97FF\",\"#FECB52\"],\"font\":{\"color\":\"#2a3f5f\"},\"geo\":{\"bgcolor\":\"white\",\"lakecolor\":\"white\",\"landcolor\":\"#E5ECF6\",\"showlakes\":true,\"showland\":true,\"subunitcolor\":\"white\"},\"hoverlabel\":{\"align\":\"left\"},\"hovermode\":\"closest\",\"mapbox\":{\"style\":\"light\"},\"paper_bgcolor\":\"white\",\"plot_bgcolor\":\"#E5ECF6\",\"polar\":{\"angularaxis\":{\"gridcolor\":\"white\",\"linecolor\":\"white\",\"ticks\":\"\"},\"bgcolor\":\"#E5ECF6\",\"radialaxis\":{\"gridcolor\":\"white\",\"linecolor\":\"white\",\"ticks\":\"\"}},\"scene\":{\"xaxis\":{\"backgroundcolor\":\"#E5ECF6\",\"gridcolor\":\"white\",\"gridwidth\":2,\"linecolor\":\"white\",\"showbackground\":true,\"ticks\":\"\",\"zerolinecolor\":\"white\"},\"yaxis\":{\"backgroundcolor\":\"#E5ECF6\",\"gridcolor\":\"white\",\"gridwidth\":2,\"linecolor\":\"white\",\"showbackground\":true,\"ticks\":\"\",\"zerolinecolor\":\"white\"},\"zaxis\":{\"backgroundcolor\":\"#E5ECF6\",\"gridcolor\":\"white\",\"gridwidth\":2,\"linecolor\":\"white\",\"showbackground\":true,\"ticks\":\"\",\"zerolinecolor\":\"white\"}},\"shapedefaults\":{\"line\":{\"color\":\"#2a3f5f\"}},\"ternary\":{\"aaxis\":{\"gridcolor\":\"white\",\"linecolor\":\"white\",\"ticks\":\"\"},\"baxis\":{\"gridcolor\":\"white\",\"linecolor\":\"white\",\"ticks\":\"\"},\"bgcolor\":\"#E5ECF6\",\"caxis\":{\"gridcolor\":\"white\",\"linecolor\":\"white\",\"ticks\":\"\"}},\"title\":{\"x\":0.05},\"xaxis\":{\"automargin\":true,\"gridcolor\":\"white\",\"linecolor\":\"white\",\"ticks\":\"\",\"title\":{\"standoff\":15},\"zerolinecolor\":\"white\",\"zerolinewidth\":2},\"yaxis\":{\"automargin\":true,\"gridcolor\":\"white\",\"linecolor\":\"white\",\"ticks\":\"\",\"title\":{\"standoff\":15},\"zerolinecolor\":\"white\",\"zerolinewidth\":2}}},\"title\":{\"text\":\"How often do you come across news or information that you<br>believe misrepresent reality or is even false?\"},\"width\":600,\"xaxis\":{\"anchor\":\"y\",\"domain\":[0.0,1.0],\"tickformat\":\".1%\",\"title\":{\"text\":\"Total 'At least once a week' %\"}},\"yaxis\":{\"anchor\":\"x\",\"domain\":[0.0,1.0],\"title\":{\"text\":\"index\"}}},                        {\"responsive\": true}                    ).then(function(){\n",
       "                            \n",
       "var gd = document.getElementById('759d3125-2558-4641-9923-841a6e3273c5');\n",
       "var x = new MutationObserver(function (mutations, observer) {{\n",
       "        var display = window.getComputedStyle(gd).display;\n",
       "        if (!display || display === 'none') {{\n",
       "            console.log([gd, 'removed!']);\n",
       "            Plotly.purge(gd);\n",
       "            observer.disconnect();\n",
       "        }}\n",
       "}});\n",
       "\n",
       "// Listen for the removal of the full notebook cells\n",
       "var notebookContainer = gd.closest('#notebook-container');\n",
       "if (notebookContainer) {{\n",
       "    x.observe(notebookContainer, {childList: true});\n",
       "}}\n",
       "\n",
       "// Listen for the clearing of the current output cell\n",
       "var outputEl = gd.closest('.output');\n",
       "if (outputEl) {{\n",
       "    x.observe(outputEl, {childList: true});\n",
       "}}\n",
       "\n",
       "                        })                };                });            </script>        </div>"
      ]
     },
     "metadata": {},
     "output_type": "display_data"
    }
   ],
   "source": [
    "title = \"How often do you come across news or information that you<br>\\\n",
    "believe misrepresent reality or is even false?\"\n",
    "\n",
    "column = \"Total 'At least once a week' %\"\n",
    "\n",
    "df = df.sort_values(column)\n",
    "\n",
    "fig = px.bar(df, x=column, title = title,\n",
    "             height = 800, width = 600)\n",
    "fig.update_layout(xaxis_tickformat = '.1%')\n",
    "\n",
    "fig.show()"
   ]
  },
  {
   "cell_type": "code",
   "execution_count": 40,
   "id": "41a0c020-22a9-449f-a11e-4bd3f074373a",
   "metadata": {},
   "outputs": [],
   "source": [
    "#saving cleaned data to CSV files\n",
    "\n",
    "for key in data.keys():\n",
    "    path = \"../data/clean/Fake News/\" + key + \".csv\"\n",
    "    data[key].to_csv(path, index = True, float_format = '%.2f')"
   ]
  },
  {
   "cell_type": "code",
   "execution_count": null,
   "id": "bd23cbce-885f-4641-890c-cb0f57177140",
   "metadata": {},
   "outputs": [],
   "source": []
  }
 ],
 "metadata": {
  "kernelspec": {
   "display_name": "Python 3 (ipykernel)",
   "language": "python",
   "name": "python3"
  },
  "language_info": {
   "codemirror_mode": {
    "name": "ipython",
    "version": 3
   },
   "file_extension": ".py",
   "mimetype": "text/x-python",
   "name": "python",
   "nbconvert_exporter": "python",
   "pygments_lexer": "ipython3",
   "version": "3.7.11"
  }
 },
 "nbformat": 4,
 "nbformat_minor": 5
}
